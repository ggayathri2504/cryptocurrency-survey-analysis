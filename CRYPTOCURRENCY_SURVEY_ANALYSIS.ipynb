{
  "nbformat": 4,
  "nbformat_minor": 0,
  "metadata": {
    "kernelspec": {
      "display_name": "Python 3",
      "language": "python",
      "name": "python3"
    },
    "language_info": {
      "codemirror_mode": {
        "name": "ipython",
        "version": 3
      },
      "file_extension": ".py",
      "mimetype": "text/x-python",
      "name": "python",
      "nbconvert_exporter": "python",
      "pygments_lexer": "ipython3",
      "version": "3.8.5"
    },
    "colab": {
      "name": "CRYPTOCURRENCY SURVEY ANALYSIS.ipynb",
      "provenance": [],
      "collapsed_sections": [],
      "toc_visible": true
    }
  },
  "cells": [
    {
      "cell_type": "markdown",
      "metadata": {
        "id": "hxNQB3Dc3qWQ"
      },
      "source": [
        "# CRYPTOCURRENCY SURVEY ANALYSIS\n",
        "\n",
        "\n",
        "\n",
        "A **Cryptocurrency** is a *digital currency* in which transactions are verified and records maintained by a \n",
        "***decentralised system*** using cryptography , rather than by *centralised* authority.\n",
        "\n",
        "\n",
        "\n",
        "*For further information click:*   [Cryptocurrency](https://en.wikipedia.org/wiki/Cryptocurrency)"
      ]
    },
    {
      "cell_type": "markdown",
      "metadata": {
        "id": "KEjPEZ3q3qWW"
      },
      "source": [
        "## ABOUT:\n",
        "\n",
        "Cryptocurrency is now seen *almost everywhere in the market*, but to what extent do we know about them. The dataset used here was collected with the *sole intention of knowing and understanding* more about cryptocurrencies. In this analysis, the scope is limited to **four popular or mostly used cryptocurrencies**.\n",
        "\n",
        "They are as follows:\n",
        "### **_ETHEREUM(ETC), BITCOIN(BTC), BITCOIN CASH(BCH), RIPPLE(XRP)_**\n",
        "\n",
        "There are also a lot of countries out there who use cryptocurrencies but only *a handful of them* have **legalised** the cryptocurrencies and **allowed the banks to do the same**. In this analysis, only those countries who have **_legalised_**  and  allowed people to frequently using cryptocurrencies are taken into the study(*USA, CHINA,JAPAN, HOLLAND, FRANCE, GERMANY, SINGAPORE, IRELAND, SPAIN, PORTUGAL*).\n",
        "\n",
        "The dataset was collected from **30 people** from each of the above mentioned countries. [Likert's five point scale](https://en.wikipedia.org/wiki/Likert_scale) was used to get the feedback from the people who are part of the study. \n",
        "\n",
        "The questionnaire consisted of the following questions:\n",
        "\n",
        "\n",
        "\n",
        "1.   **Affinity to Ethereum.**\n",
        "2.   **Affinity to Bitcoin.**\n",
        "3.   **Affinity to Bitcoin Cash.**\n",
        "4.   **Affinity to Ripple.**\n",
        "5.   **Interest in investing in shares.**\n",
        "6.   **Frequency of using cryptocurrencies.**\n",
        "7.   **Affinity to Brave Browser.**\n",
        "8.   **Security Ratings.**\n",
        "9.   **Need for improvement in wallets.**\n",
        "10.  **Flexibility of laws regarding cryptocurrencies.**\n"
      ]
    },
    {
      "cell_type": "markdown",
      "metadata": {
        "id": "pG_nX5EayufI"
      },
      "source": [
        "## ABSTRACT:\n",
        "\n",
        "The scope of this analysis is to find more about *cryptocurrencies*. Through this analysis, the following **_objectives_** are met:\n",
        "\n",
        "\n",
        "\n",
        "1.   **_The extent of relationship between Bitcoin and Bitcoin Cash._**\n",
        "2.   **_The Functional relationship between Security ratings and Improvements in wallets._**\n",
        "3.   **_The Functional relationship of Interest in shares with frequency and Felxibility of laws._**\n",
        "4.   **_Illustrate the popularity of cryptocurrencies from survey visually._**\n",
        "7.   **_Perform ANOVA analysis._**\n",
        "\n"
      ]
    },
    {
      "cell_type": "markdown",
      "metadata": {
        "id": "HJRqKQp40-bJ"
      },
      "source": [
        "### IMPORTING PACKAGES:"
      ]
    },
    {
      "cell_type": "code",
      "metadata": {
        "id": "6zEx2xC11KfW"
      },
      "source": [
        "import pandas as pd\n",
        "import numpy as np\n",
        "import matplotlib.pyplot as plt\n",
        "from scipy.stats import f_oneway\n",
        "from sklearn.linear_model import LinearRegression as lr\n",
        "from sklearn.discriminant_analysis import LinearDiscriminantAnalysis as lda\n",
        "from sklearn.preprocessing import LabelEncoder\n",
        "from tabulate import tabulate"
      ],
      "execution_count": null,
      "outputs": []
    },
    {
      "cell_type": "markdown",
      "metadata": {
        "id": "hgxB8G_92yTV"
      },
      "source": [
        "### LOADING DATASET"
      ]
    },
    {
      "cell_type": "code",
      "metadata": {
        "colab": {
          "base_uri": "https://localhost:8080/",
          "height": 229
        },
        "id": "XN4FiDQG_UR-",
        "outputId": "2ed082d9-2999-4d12-ff69-4f3d08e24eb8"
      },
      "source": [
        "df = pd.read_excel(\"/content/cryptocurrency.xlsx\")\n",
        "df.head(5)"
      ],
      "execution_count": null,
      "outputs": [
        {
          "output_type": "execute_result",
          "data": {
            "text/html": [
              "<div>\n",
              "<style scoped>\n",
              "    .dataframe tbody tr th:only-of-type {\n",
              "        vertical-align: middle;\n",
              "    }\n",
              "\n",
              "    .dataframe tbody tr th {\n",
              "        vertical-align: top;\n",
              "    }\n",
              "\n",
              "    .dataframe thead th {\n",
              "        text-align: right;\n",
              "    }\n",
              "</style>\n",
              "<table border=\"1\" class=\"dataframe\">\n",
              "  <thead>\n",
              "    <tr style=\"text-align: right;\">\n",
              "      <th></th>\n",
              "      <th>COUNTRY</th>\n",
              "      <th>LIKENESS OF ETHEREUM</th>\n",
              "      <th>LIKENESS OF BITCOIN</th>\n",
              "      <th>LIKENESS OF RIPPLE</th>\n",
              "      <th>LIKENESS OF BITCOIN CASH</th>\n",
              "      <th>INTEREST IN SHARES</th>\n",
              "      <th>FREQUENCY</th>\n",
              "      <th>LIKENESS OF BRAVE</th>\n",
              "      <th>SECURITY RATINGS</th>\n",
              "      <th>NEED FOR IMPROVEMENT IN WALLET</th>\n",
              "      <th>FLEXIBLITY OF LAWS</th>\n",
              "    </tr>\n",
              "  </thead>\n",
              "  <tbody>\n",
              "    <tr>\n",
              "      <th>0</th>\n",
              "      <td>USA</td>\n",
              "      <td>3.1</td>\n",
              "      <td>4.3</td>\n",
              "      <td>1.4</td>\n",
              "      <td>3.0</td>\n",
              "      <td>2.6</td>\n",
              "      <td>2.8</td>\n",
              "      <td>1.5</td>\n",
              "      <td>1.4</td>\n",
              "      <td>4.3</td>\n",
              "      <td>3.3</td>\n",
              "    </tr>\n",
              "    <tr>\n",
              "      <th>1</th>\n",
              "      <td>USA</td>\n",
              "      <td>4.0</td>\n",
              "      <td>4.2</td>\n",
              "      <td>2.2</td>\n",
              "      <td>2.6</td>\n",
              "      <td>3.9</td>\n",
              "      <td>3.0</td>\n",
              "      <td>2.8</td>\n",
              "      <td>1.6</td>\n",
              "      <td>3.2</td>\n",
              "      <td>3.9</td>\n",
              "    </tr>\n",
              "    <tr>\n",
              "      <th>2</th>\n",
              "      <td>USA</td>\n",
              "      <td>3.6</td>\n",
              "      <td>4.8</td>\n",
              "      <td>1.7</td>\n",
              "      <td>2.8</td>\n",
              "      <td>2.5</td>\n",
              "      <td>2.6</td>\n",
              "      <td>2.8</td>\n",
              "      <td>1.9</td>\n",
              "      <td>3.1</td>\n",
              "      <td>3.1</td>\n",
              "    </tr>\n",
              "    <tr>\n",
              "      <th>3</th>\n",
              "      <td>USA</td>\n",
              "      <td>3.9</td>\n",
              "      <td>3.8</td>\n",
              "      <td>1.5</td>\n",
              "      <td>2.9</td>\n",
              "      <td>3.0</td>\n",
              "      <td>2.5</td>\n",
              "      <td>2.9</td>\n",
              "      <td>2.2</td>\n",
              "      <td>3.7</td>\n",
              "      <td>4.2</td>\n",
              "    </tr>\n",
              "    <tr>\n",
              "      <th>4</th>\n",
              "      <td>USA</td>\n",
              "      <td>3.6</td>\n",
              "      <td>4.8</td>\n",
              "      <td>1.9</td>\n",
              "      <td>3.0</td>\n",
              "      <td>3.5</td>\n",
              "      <td>2.6</td>\n",
              "      <td>2.5</td>\n",
              "      <td>1.1</td>\n",
              "      <td>4.2</td>\n",
              "      <td>3.9</td>\n",
              "    </tr>\n",
              "  </tbody>\n",
              "</table>\n",
              "</div>"
            ],
            "text/plain": [
              "  COUNTRY  ...  FLEXIBLITY OF LAWS\n",
              "0     USA  ...                 3.3\n",
              "1     USA  ...                 3.9\n",
              "2     USA  ...                 3.1\n",
              "3     USA  ...                 4.2\n",
              "4     USA  ...                 3.9\n",
              "\n",
              "[5 rows x 11 columns]"
            ]
          },
          "metadata": {
            "tags": []
          },
          "execution_count": 8
        }
      ]
    },
    {
      "cell_type": "code",
      "metadata": {
        "colab": {
          "base_uri": "https://localhost:8080/",
          "height": 318
        },
        "id": "QGkUwaTeZuLP",
        "outputId": "a77685a1-7c14-4885-e5b7-6bbfbcb9aa40"
      },
      "source": [
        "df.describe()"
      ],
      "execution_count": null,
      "outputs": [
        {
          "output_type": "execute_result",
          "data": {
            "text/html": [
              "<div>\n",
              "<style scoped>\n",
              "    .dataframe tbody tr th:only-of-type {\n",
              "        vertical-align: middle;\n",
              "    }\n",
              "\n",
              "    .dataframe tbody tr th {\n",
              "        vertical-align: top;\n",
              "    }\n",
              "\n",
              "    .dataframe thead th {\n",
              "        text-align: right;\n",
              "    }\n",
              "</style>\n",
              "<table border=\"1\" class=\"dataframe\">\n",
              "  <thead>\n",
              "    <tr style=\"text-align: right;\">\n",
              "      <th></th>\n",
              "      <th>LIKENESS OF ETHEREUM</th>\n",
              "      <th>LIKENESS OF BITCOIN</th>\n",
              "      <th>LIKENESS OF RIPPLE</th>\n",
              "      <th>LIKENESS OF BITCOIN CASH</th>\n",
              "      <th>INTEREST IN SHARES</th>\n",
              "      <th>FREQUENCY</th>\n",
              "      <th>LIKENESS OF BRAVE</th>\n",
              "      <th>SECURITY RATINGS</th>\n",
              "      <th>NEED FOR IMPROVEMENT IN WALLET</th>\n",
              "      <th>FLEXIBLITY OF LAWS</th>\n",
              "    </tr>\n",
              "  </thead>\n",
              "  <tbody>\n",
              "    <tr>\n",
              "      <th>count</th>\n",
              "      <td>300.000000</td>\n",
              "      <td>300.000000</td>\n",
              "      <td>300.00000</td>\n",
              "      <td>300.000000</td>\n",
              "      <td>300.000000</td>\n",
              "      <td>300.000000</td>\n",
              "      <td>300.000000</td>\n",
              "      <td>300.000000</td>\n",
              "      <td>300.000000</td>\n",
              "      <td>300.000000</td>\n",
              "    </tr>\n",
              "    <tr>\n",
              "      <th>mean</th>\n",
              "      <td>3.208667</td>\n",
              "      <td>4.211667</td>\n",
              "      <td>2.63000</td>\n",
              "      <td>2.607333</td>\n",
              "      <td>3.529667</td>\n",
              "      <td>3.657000</td>\n",
              "      <td>3.715667</td>\n",
              "      <td>3.138667</td>\n",
              "      <td>3.579333</td>\n",
              "      <td>3.560000</td>\n",
              "    </tr>\n",
              "    <tr>\n",
              "      <th>std</th>\n",
              "      <td>0.806780</td>\n",
              "      <td>0.591097</td>\n",
              "      <td>0.85659</td>\n",
              "      <td>0.665047</td>\n",
              "      <td>0.959978</td>\n",
              "      <td>0.693002</td>\n",
              "      <td>0.923597</td>\n",
              "      <td>0.938745</td>\n",
              "      <td>0.737826</td>\n",
              "      <td>0.805043</td>\n",
              "    </tr>\n",
              "    <tr>\n",
              "      <th>min</th>\n",
              "      <td>1.500000</td>\n",
              "      <td>2.500000</td>\n",
              "      <td>1.00000</td>\n",
              "      <td>1.000000</td>\n",
              "      <td>1.200000</td>\n",
              "      <td>2.000000</td>\n",
              "      <td>1.000000</td>\n",
              "      <td>1.000000</td>\n",
              "      <td>1.200000</td>\n",
              "      <td>1.500000</td>\n",
              "    </tr>\n",
              "    <tr>\n",
              "      <th>25%</th>\n",
              "      <td>2.500000</td>\n",
              "      <td>3.900000</td>\n",
              "      <td>2.00000</td>\n",
              "      <td>2.175000</td>\n",
              "      <td>2.800000</td>\n",
              "      <td>3.175000</td>\n",
              "      <td>3.000000</td>\n",
              "      <td>2.400000</td>\n",
              "      <td>3.200000</td>\n",
              "      <td>3.000000</td>\n",
              "    </tr>\n",
              "    <tr>\n",
              "      <th>50%</th>\n",
              "      <td>3.300000</td>\n",
              "      <td>4.300000</td>\n",
              "      <td>2.50000</td>\n",
              "      <td>2.600000</td>\n",
              "      <td>3.800000</td>\n",
              "      <td>3.600000</td>\n",
              "      <td>3.900000</td>\n",
              "      <td>3.100000</td>\n",
              "      <td>3.700000</td>\n",
              "      <td>3.700000</td>\n",
              "    </tr>\n",
              "    <tr>\n",
              "      <th>75%</th>\n",
              "      <td>3.800000</td>\n",
              "      <td>4.600000</td>\n",
              "      <td>3.10000</td>\n",
              "      <td>3.000000</td>\n",
              "      <td>4.300000</td>\n",
              "      <td>4.100000</td>\n",
              "      <td>4.500000</td>\n",
              "      <td>3.900000</td>\n",
              "      <td>4.100000</td>\n",
              "      <td>4.125000</td>\n",
              "    </tr>\n",
              "    <tr>\n",
              "      <th>max</th>\n",
              "      <td>4.900000</td>\n",
              "      <td>5.000000</td>\n",
              "      <td>4.70000</td>\n",
              "      <td>4.400000</td>\n",
              "      <td>5.000000</td>\n",
              "      <td>5.000000</td>\n",
              "      <td>5.000000</td>\n",
              "      <td>5.000000</td>\n",
              "      <td>4.900000</td>\n",
              "      <td>5.000000</td>\n",
              "    </tr>\n",
              "  </tbody>\n",
              "</table>\n",
              "</div>"
            ],
            "text/plain": [
              "       LIKENESS OF ETHEREUM  ...  FLEXIBLITY OF LAWS\n",
              "count            300.000000  ...          300.000000\n",
              "mean               3.208667  ...            3.560000\n",
              "std                0.806780  ...            0.805043\n",
              "min                1.500000  ...            1.500000\n",
              "25%                2.500000  ...            3.000000\n",
              "50%                3.300000  ...            3.700000\n",
              "75%                3.800000  ...            4.125000\n",
              "max                4.900000  ...            5.000000\n",
              "\n",
              "[8 rows x 10 columns]"
            ]
          },
          "metadata": {
            "tags": []
          },
          "execution_count": 4
        }
      ]
    },
    {
      "cell_type": "markdown",
      "metadata": {
        "id": "rDktgWdMZr5a"
      },
      "source": [
        "Some ot the basic *description* of the data is done."
      ]
    },
    {
      "cell_type": "code",
      "metadata": {
        "colab": {
          "base_uri": "https://localhost:8080/"
        },
        "id": "Z7S5m-hSacq5",
        "outputId": "84a1e719-f5d7-4d6e-afa2-2a19194687a9"
      },
      "source": [
        "table,a,m=[],[],[]\n",
        "a=df['COUNTRY']"
      ],
      "execution_count": null,
      "outputs": [
        {
          "output_type": "execute_result",
          "data": {
            "text/plain": [
              "<bound method Series.unique of 0          USA\n",
              "1          USA\n",
              "2          USA\n",
              "3          USA\n",
              "4          USA\n",
              "        ...   \n",
              "295    HOLLAND\n",
              "296    HOLLAND\n",
              "297    HOLLAND\n",
              "298    HOLLAND\n",
              "299    HOLLAND\n",
              "Name: COUNTRY, Length: 300, dtype: object>"
            ]
          },
          "metadata": {
            "tags": []
          },
          "execution_count": 17
        }
      ]
    },
    {
      "cell_type": "markdown",
      "metadata": {
        "id": "UXwph7l533Xz"
      },
      "source": [
        "### 1. SIMPLE LINEAR CORRELATION"
      ]
    },
    {
      "cell_type": "markdown",
      "metadata": {
        "id": "sz2EZZvL3-7_"
      },
      "source": [
        "To find the extent of the relationship between bitcoin and bitcoin cash, **_simple linear correlation_** is used. "
      ]
    },
    {
      "cell_type": "code",
      "metadata": {
        "colab": {
          "base_uri": "https://localhost:8080/"
        },
        "id": "vdXECSq03qWX",
        "outputId": "3a852a40-414f-4e14-93cc-6cd0b444b6b3"
      },
      "source": [
        "bitcoin=df['LIKENESS OF BITCOIN'].to_numpy()\n",
        "bitcoin_cash=df[\"LIKENESS OF BITCOIN CASH\"].to_numpy()\n",
        "ans=np.corrcoef(bitcoin,bitcoin_cash)\n",
        "print(\"Correlation between likeness of bitcoin and bitcoin cash is \",ans[0,1]) \n"
      ],
      "execution_count": null,
      "outputs": [
        {
          "output_type": "stream",
          "text": [
            "Correlation between likeness of bitcoin and bitcoin cash is  0.4187065663109614\n"
          ],
          "name": "stdout"
        }
      ]
    },
    {
      "cell_type": "code",
      "metadata": {
        "colab": {
          "base_uri": "https://localhost:8080/",
          "height": 265
        },
        "id": "7A2ljFHCheH7",
        "outputId": "b6e213fc-96a1-4380-f6ed-96ba4608544a"
      },
      "source": [
        "plt.scatter(bitcoin,bitcoin_cash)\n",
        "plt.show()"
      ],
      "execution_count": null,
      "outputs": [
        {
          "output_type": "display_data",
          "data": {
            "image/png": "[encoded data removed]",
            "text/plain": [
              "<Figure size 432x288 with 1 Axes>"
            ]
          },
          "metadata": {
            "tags": [],
            "needs_background": "light"
          }
        }
      ]
    },
    {
      "cell_type": "markdown",
      "metadata": {
        "id": "K82nvva54cwV"
      },
      "source": [
        "There is **no negative correlation** between bitcoin and bitcoin cash. At the same time, there is **_no significant_** strength in the relationship between the two."
      ]
    },
    {
      "cell_type": "markdown",
      "metadata": {
        "id": "Xugj8H6F5nZO"
      },
      "source": [
        "### 2. SIMPLE LINEAR REGRESSION\n",
        "\n",
        "To find the functional relationship between security ratings and wallets improvement, **_ordinary linear regression_** is used. Here, security ratings is the **predoictor** variable while the wallets improvement is the **dependent variable**."
      ]
    },
    {
      "cell_type": "code",
      "metadata": {
        "colab": {
          "base_uri": "https://localhost:8080/",
          "height": 282
        },
        "id": "R050wUXd3qWX",
        "outputId": "b5cd1f92-4dc4-4ca1-b846-98b760e72e5a"
      },
      "source": [
        "security=df['SECURITY RATINGS'].to_numpy().reshape(-1,1)\n",
        "wallet=df[\"NEED FOR IMPROVEMENT IN WALLET\"].to_numpy()\n",
        "yp=[]\n",
        "model=lr()\n",
        "reg=model.fit(security,wallet)\n",
        "slope=model.predict(security)\n",
        "plt.scatter(security,wallet)\n",
        "plt.plot(security,slope,color=\"red\")\n",
        "plt.show()\n",
        "print(\"Regression function: \",reg.coef_,\" X + \",reg.intercept_)\n"
      ],
      "execution_count": null,
      "outputs": [
        {
          "output_type": "display_data",
          "data": {
            "image/png": "[encoded data removed]",
            "text/plain": [
              "<Figure size 432x288 with 1 Axes>"
            ]
          },
          "metadata": {
            "tags": [],
            "needs_background": "light"
          }
        },
        {
          "output_type": "stream",
          "text": [
            "Regression function:  [0.01407914]  X +  3.535143604903587\n"
          ],
          "name": "stdout"
        }
      ]
    },
    {
      "cell_type": "markdown",
      "metadata": {
        "id": "fDoI2ADX6vBs"
      },
      "source": [
        "The function indicates that there is only a **no significant** contribution made by the security ratings to the *dependent* variable wallets improvement. With this, we can conclude that **_there maybe other parameters that greatly influence_** the improvements in wallets."
      ]
    },
    {
      "cell_type": "markdown",
      "metadata": {
        "id": "b9z25X3C7r9o"
      },
      "source": [
        "### 3. MULTIPLE LINEAR REGRESSION\n",
        "\n",
        "To find the functional relationship of interest in shares with frequency and flexibility of laws, **_multiple linear regression_** is employed. Here, the frequency and felxibility of laws are the **independent variables** while the interest in shares is the **dependent variable**."
      ]
    },
    {
      "cell_type": "code",
      "metadata": {
        "colab": {
          "base_uri": "https://localhost:8080/"
        },
        "id": "Nv596NIs3qWY",
        "outputId": "26ef6503-071a-4401-803c-e308d07dc4cc"
      },
      "source": [
        "mlr_x=df[[\"FREQUENCY\",\"FLEXIBLITY OF LAWS\"]]\n",
        "mlr_y=df[\"INTEREST IN SHARES\"]\n",
        "model=lr()\n",
        "reg=model.fit(mlr_x,mlr_y)\n",
        "print(\"MLR model : \",reg.coef_,\" X + \",reg.intercept_)\n"
      ],
      "execution_count": null,
      "outputs": [
        {
          "output_type": "stream",
          "text": [
            "MLR model :  [ 0.39014922 -0.34372065]  X +  3.326536479689376\n"
          ],
          "name": "stdout"
        }
      ]
    },
    {
      "cell_type": "markdown",
      "metadata": {
        "id": "5fzjoeJI3Cut"
      },
      "source": [
        "The above model describes that relationship between or the contribution of the frequency and flexibility of laws to interest in shares."
      ]
    },
    {
      "cell_type": "markdown",
      "metadata": {
        "id": "f5SLw-U3_s30"
      },
      "source": [
        "### 4. PLOTTING GRAPH\n"
      ]
    },
    {
      "cell_type": "code",
      "metadata": {
        "id": "onDG4-m1WfZh",
        "colab": {
          "base_uri": "https://localhost:8080/",
          "height": 621
        },
        "outputId": "7202700d-9505-48f7-9890-ed7a4a66d13d"
      },
      "source": [
        "width=0.2\n",
        "fig=plt.figure()\n",
        "fig.set_figwidth(15)\n",
        "fig.set_figheight(10)\n",
        "country=df['COUNTRY']\n",
        "country=list(country.unique())\n",
        "etc=df.groupby('COUNTRY')['LIKENESS OF ETHEREUM'].mean()\n",
        "btc=df.groupby('COUNTRY')['LIKENESS OF BITCOIN'].mean()\n",
        "xrp=df.groupby('COUNTRY')['LIKENESS OF RIPPLE'].mean()\n",
        "bch=df.groupby('COUNTRY')['LIKENESS OF BITCOIN CASH'].mean()\n",
        "bar1=np.arange(len(country))\n",
        "bar2=[i+width for i in bar1]\n",
        "bar3=[i+width for i in bar2]\n",
        "bar4=[i+width for i in bar3]\n",
        "plt.bar(bar1,etc,width,label=\"ETHEREUM\")\n",
        "plt.bar(bar2,btc,width,label=\"BITCOIN\")\n",
        "plt.bar(bar3,xrp,width,label=\"RIPPLE\")\n",
        "plt.bar(bar4,bch,width,label=\"BITCOIN CASH\")\n",
        "plt.xlabel(\"COUNTRIES\")\n",
        "plt.ylabel(\"AVG RATINGS\")\n",
        "plt.title(\"RATINGS FOR CRYPTOCURRENCIES ACROSS VARIOUS COUNTRIES UNDER STUDY\")\n",
        "plt.xticks(bar1+width+width/2,country)\n",
        "plt.legend()\n",
        "plt.show()"
      ],
      "execution_count": null,
      "outputs": [
        {
          "output_type": "display_data",
          "data": {
            "image/png": "[encoded data removed]",
            "text/plain": [
              "<Figure size 1080x720 with 1 Axes>"
            ]
          },
          "metadata": {
            "tags": [],
            "needs_background": "light"
          }
        }
      ]
    },
    {
      "cell_type": "markdown",
      "metadata": {
        "id": "dI36RNofxJBj"
      },
      "source": [
        "The above graph **multiple bar graph** has *Avg ratings* **vs** *Countries* for four different cryptocurrencies."
      ]
    },
    {
      "cell_type": "markdown",
      "metadata": {
        "id": "WBYOSK2L7uJR"
      },
      "source": [
        "### 5. ANOVA\n",
        "\n",
        "To find whether **_France , Spain and Germany_** are similar or not with each other, **ANOVA** is employed.\n",
        "\n",
        "H(0) : france(mean)=spain(mean)=germany(mean)\n",
        "\n",
        "H(A) : Atleast one mean is different from others."
      ]
    },
    {
      "cell_type": "code",
      "metadata": {
        "colab": {
          "base_uri": "https://localhost:8080/",
          "height": 265
        },
        "id": "lkHPHgOllxbI",
        "outputId": "33b2c524-c884-4bfb-c181-c494ebb7ffdd"
      },
      "source": [
        "france=df[df.COUNTRY==\"FRANCE\"]\n",
        "germany=df[df.COUNTRY==\"GERMANY\"]\n",
        "spain=df[df.COUNTRY==\"SPAIN\"]\n",
        "france=list(france['INTEREST IN SHARES'])\n",
        "germany=list(germany['INTEREST IN SHARES'])\n",
        "spain=list(spain['INTEREST IN SHARES'])\n",
        "plt.scatter(france,spain)\n",
        "plt.scatter(france,germany)\n",
        "plt.scatter(spain,germany)\n",
        "plt.show()"
      ],
      "execution_count": null,
      "outputs": [
        {
          "output_type": "display_data",
          "data": {
            "image/png": "[encoded data removed]",
            "text/plain": [
              "<Figure size 432x288 with 1 Axes>"
            ]
          },
          "metadata": {
            "tags": [],
            "needs_background": "light"
          }
        }
      ]
    },
    {
      "cell_type": "code",
      "metadata": {
        "id": "HSh-wceBfS73",
        "colab": {
          "base_uri": "https://localhost:8080/"
        },
        "outputId": "ea845e9b-ffad-4ca6-c375-7cffe4debc4c"
      },
      "source": [
        "france=df[df.COUNTRY==\"FRANCE\"]\n",
        "germany=df[df.COUNTRY==\"GERMANY\"]\n",
        "spain=df[df.COUNTRY==\"SPAIN\"]\n",
        "france=list(france['INTEREST IN SHARES'])\n",
        "germany=list(germany['INTEREST IN SHARES'])\n",
        "spain=list(spain['INTEREST IN SHARES'])\n",
        "stat,pvalue=f_oneway(france,germany,spain)\n",
        "print(\"F STAT VALUE= \",stat)\n",
        "print(\"PVALUE= {}\".format(pvalue))"
      ],
      "execution_count": null,
      "outputs": [
        {
          "output_type": "stream",
          "text": [
            "F STAT VALUE=  166.87603995825225\n",
            "PVALUE= 1.6747295294971765e-30\n"
          ],
          "name": "stdout"
        }
      ]
    },
    {
      "cell_type": "markdown",
      "metadata": {
        "id": "msbk7ajtBj7V"
      },
      "source": [
        "From **p-value**, since PVALUE < **0.05** the null hypothesis is rejected. Therefore **atleast one mean is significantly different from the other**."
      ]
    },
    {
      "cell_type": "markdown",
      "metadata": {
        "id": "72imUApVDxwR"
      },
      "source": [
        "To find whether **_China and Japan_** are similar or not with each other,**ANOVA** is employed.\n",
        "\n",
        "H(0) : china(mean)=japan(mean)\n",
        "\n",
        "H(A) : china(mean) != japan(mean)"
      ]
    },
    {
      "cell_type": "code",
      "metadata": {
        "colab": {
          "base_uri": "https://localhost:8080/",
          "height": 265
        },
        "id": "Ji2V_vkqonXY",
        "outputId": "ae458b16-7dc5-4956-9f60-4a122a8d713a"
      },
      "source": [
        "china=df[df['COUNTRY']==\"CHINA\"]\n",
        "japan=df[df['COUNTRY']==\"JAPAN\"]\n",
        "china=list(china['LIKENESS OF ETHEREUM'])\n",
        "japan=list(japan['LIKENESS OF ETHEREUM'])\n",
        "plt.plot(china,japan)\n",
        "plt.show()"
      ],
      "execution_count": null,
      "outputs": [
        {
          "output_type": "display_data",
          "data": {
            "image/png": "[encoded data removed]",
            "text/plain": [
              "<Figure size 432x288 with 1 Axes>"
            ]
          },
          "metadata": {
            "tags": [],
            "needs_background": "light"
          }
        }
      ]
    },
    {
      "cell_type": "code",
      "metadata": {
        "colab": {
          "base_uri": "https://localhost:8080/"
        },
        "id": "vUOD1btM-bl-",
        "outputId": "73d09f29-b956-4804-93a2-cb074bc01cb6"
      },
      "source": [
        "china=df[df['COUNTRY']==\"CHINA\"]\n",
        "japan=df[df['COUNTRY']==\"JAPAN\"]\n",
        "china=list(china['LIKENESS OF ETHEREUM'])\n",
        "japan=list(japan['LIKENESS OF ETHEREUM'])\n",
        "stat,pvalue=f_oneway(china,japan)\n",
        "print(\"F STAT = \",stat)\n",
        "print(\"PVALUE =\",pvalue)"
      ],
      "execution_count": null,
      "outputs": [
        {
          "output_type": "stream",
          "text": [
            "F STAT =  0.3247570569180935\n",
            "PVALUE = 0.570963612925472\n"
          ],
          "name": "stdout"
        }
      ]
    },
    {
      "cell_type": "markdown",
      "metadata": {
        "id": "wieIPcznFmeh"
      },
      "source": [
        "Here, the PVALUE > 0.05 meaning that **there is not significant difference in the means of china and japan**.\n",
        "Therefore, these countries(*japan,china*) have same **Affinity towards ethereum**."
      ]
    },
    {
      "cell_type": "code",
      "metadata": {
        "id": "eI2mlH0UE3ky"
      },
      "source": [
        ""
      ],
      "execution_count": null,
      "outputs": []
    }
  ]
}